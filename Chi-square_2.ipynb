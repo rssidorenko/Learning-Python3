{
 "cells": [
  {
   "cell_type": "code",
   "execution_count": 3,
   "metadata": {},
   "outputs": [
    {
     "data": {
      "text/html": [
       "<div>\n",
       "<style scoped>\n",
       "    .dataframe tbody tr th:only-of-type {\n",
       "        vertical-align: middle;\n",
       "    }\n",
       "\n",
       "    .dataframe tbody tr th {\n",
       "        vertical-align: top;\n",
       "    }\n",
       "\n",
       "    .dataframe thead th {\n",
       "        text-align: right;\n",
       "    }\n",
       "</style>\n",
       "<table border=\"1\" class=\"dataframe\">\n",
       "  <thead>\n",
       "    <tr style=\"text-align: right;\">\n",
       "      <th></th>\n",
       "      <th>respondentID</th>\n",
       "      <th>seen</th>\n",
       "      <th>fan</th>\n",
       "      <th>gender</th>\n",
       "      <th>age_group</th>\n",
       "      <th>income</th>\n",
       "      <th>loc</th>\n",
       "      <th>yoda</th>\n",
       "      <th>princess_leia_organa</th>\n",
       "    </tr>\n",
       "  </thead>\n",
       "  <tbody>\n",
       "    <tr>\n",
       "      <th>0</th>\n",
       "      <td>3292879998</td>\n",
       "      <td>да</td>\n",
       "      <td>да</td>\n",
       "      <td>М</td>\n",
       "      <td>18-29</td>\n",
       "      <td>NaN</td>\n",
       "      <td>Южно-Атлантический</td>\n",
       "      <td>очень нравится</td>\n",
       "      <td>очень нравится</td>\n",
       "    </tr>\n",
       "    <tr>\n",
       "      <th>1</th>\n",
       "      <td>3292879538</td>\n",
       "      <td>нет</td>\n",
       "      <td>NaN</td>\n",
       "      <td>М</td>\n",
       "      <td>18-29</td>\n",
       "      <td>0 - 24.999</td>\n",
       "      <td>Юго-Западный центральный</td>\n",
       "      <td>NaN</td>\n",
       "      <td>NaN</td>\n",
       "    </tr>\n",
       "    <tr>\n",
       "      <th>2</th>\n",
       "      <td>3292765271</td>\n",
       "      <td>да</td>\n",
       "      <td>нет</td>\n",
       "      <td>М</td>\n",
       "      <td>18-29</td>\n",
       "      <td>0 - 24.999</td>\n",
       "      <td>Северо-Западный центральный</td>\n",
       "      <td>не знаю такого персонажа</td>\n",
       "      <td>нравится</td>\n",
       "    </tr>\n",
       "    <tr>\n",
       "      <th>3</th>\n",
       "      <td>3292763116</td>\n",
       "      <td>да</td>\n",
       "      <td>да</td>\n",
       "      <td>М</td>\n",
       "      <td>18-29</td>\n",
       "      <td>100.000 - 149.999</td>\n",
       "      <td>Северо-Западный центральный</td>\n",
       "      <td>очень нравится</td>\n",
       "      <td>очень нравится</td>\n",
       "    </tr>\n",
       "    <tr>\n",
       "      <th>4</th>\n",
       "      <td>3292731220</td>\n",
       "      <td>да</td>\n",
       "      <td>да</td>\n",
       "      <td>М</td>\n",
       "      <td>18-29</td>\n",
       "      <td>100.000 - 149.999</td>\n",
       "      <td>Северо-Западный центральный</td>\n",
       "      <td>нравится</td>\n",
       "      <td>нравится</td>\n",
       "    </tr>\n",
       "  </tbody>\n",
       "</table>\n",
       "</div>"
      ],
      "text/plain": [
       "   respondentID seen  fan gender age_group             income  \\\n",
       "0    3292879998   да   да      М     18-29                NaN   \n",
       "1    3292879538  нет  NaN      М     18-29         0 - 24.999   \n",
       "2    3292765271   да  нет      М     18-29         0 - 24.999   \n",
       "3    3292763116   да   да      М     18-29  100.000 - 149.999   \n",
       "4    3292731220   да   да      М     18-29  100.000 - 149.999   \n",
       "\n",
       "                           loc                      yoda princess_leia_organa  \n",
       "0           Южно-Атлантический            очень нравится       очень нравится  \n",
       "1     Юго-Западный центральный                       NaN                  NaN  \n",
       "2  Северо-Западный центральный  не знаю такого персонажа             нравится  \n",
       "3  Северо-Западный центральный            очень нравится       очень нравится  \n",
       "4  Северо-Западный центральный                  нравится             нравится  "
      ]
     },
     "execution_count": 3,
     "metadata": {},
     "output_type": "execute_result"
    }
   ],
   "source": [
    "import pandas as pd\n",
    "import scipy.stats\n",
    "SW = pd.read_csv('StarWars.csv', sep=';')\n",
    "SW.head()"
   ]
  },
  {
   "cell_type": "code",
   "execution_count": 5,
   "metadata": {},
   "outputs": [
    {
     "data": {
      "text/html": [
       "<div>\n",
       "<style scoped>\n",
       "    .dataframe tbody tr th:only-of-type {\n",
       "        vertical-align: middle;\n",
       "    }\n",
       "\n",
       "    .dataframe tbody tr th {\n",
       "        vertical-align: top;\n",
       "    }\n",
       "\n",
       "    .dataframe thead th {\n",
       "        text-align: right;\n",
       "    }\n",
       "</style>\n",
       "<table border=\"1\" class=\"dataframe\">\n",
       "  <thead>\n",
       "    <tr style=\"text-align: right;\">\n",
       "      <th>fan</th>\n",
       "      <th>да</th>\n",
       "      <th>нет</th>\n",
       "    </tr>\n",
       "    <tr>\n",
       "      <th>gender</th>\n",
       "      <th></th>\n",
       "      <th></th>\n",
       "    </tr>\n",
       "  </thead>\n",
       "  <tbody>\n",
       "    <tr>\n",
       "      <th>Ж</th>\n",
       "      <td>238</td>\n",
       "      <td>159</td>\n",
       "    </tr>\n",
       "    <tr>\n",
       "      <th>М</th>\n",
       "      <td>303</td>\n",
       "      <td>120</td>\n",
       "    </tr>\n",
       "  </tbody>\n",
       "</table>\n",
       "</div>"
      ],
      "text/plain": [
       "fan      да  нет\n",
       "gender          \n",
       "Ж       238  159\n",
       "М       303  120"
      ]
     },
     "execution_count": 5,
     "metadata": {},
     "output_type": "execute_result"
    }
   ],
   "source": [
    "ct_o = SW.groupby('gender')['fan'].value_counts().unstack()\n",
    "ct_o"
   ]
  },
  {
   "cell_type": "code",
   "execution_count": 7,
   "metadata": {},
   "outputs": [
    {
     "data": {
      "text/plain": [
       "1"
      ]
     },
     "execution_count": 7,
     "metadata": {},
     "output_type": "execute_result"
    }
   ],
   "source": [
    "dof = (2-1)*(2-1)\n",
    "dof"
   ]
  },
  {
   "cell_type": "code",
   "execution_count": 16,
   "metadata": {},
   "outputs": [
    {
     "data": {
      "text/plain": [
       "541"
      ]
     },
     "execution_count": 16,
     "metadata": {},
     "output_type": "execute_result"
    }
   ],
   "source": [
    "fan = ct_o['да'].sum()\n",
    "fan"
   ]
  },
  {
   "cell_type": "code",
   "execution_count": 19,
   "metadata": {},
   "outputs": [
    {
     "data": {
      "text/plain": [
       "820"
      ]
     },
     "execution_count": 19,
     "metadata": {},
     "output_type": "execute_result"
    }
   ],
   "source": [
    "num_total = ct_o.sum().sum()\n",
    "num_total"
   ]
  },
  {
   "cell_type": "code",
   "execution_count": 26,
   "metadata": {},
   "outputs": [
    {
     "name": "stdout",
     "output_type": "stream",
     "text": [
      "0.6597560975609756 0.34024390243902436\n"
     ]
    }
   ],
   "source": [
    "p_fan = fan / num_total\n",
    "p_not_fan = 1 - p_fan\n",
    "print(p_fan, p_not_fan)"
   ]
  },
  {
   "cell_type": "code",
   "execution_count": 27,
   "metadata": {},
   "outputs": [
    {
     "name": "stdout",
     "output_type": "stream",
     "text": [
      "397 423\n"
     ]
    }
   ],
   "source": [
    "num_women = ct_o.iloc[0].sum()\n",
    "num_men = ct_o.iloc[1].sum()\n",
    "print (num_women, num_men)"
   ]
  },
  {
   "cell_type": "code",
   "execution_count": 25,
   "metadata": {},
   "outputs": [
    {
     "data": {
      "text/plain": [
       "261.92317073170733"
      ]
     },
     "execution_count": 25,
     "metadata": {},
     "output_type": "execute_result"
    }
   ],
   "source": [
    "f_e_wom_fan = num_women * p_fan\n",
    "f_e_wom_fan"
   ]
  },
  {
   "cell_type": "code",
   "execution_count": 29,
   "metadata": {},
   "outputs": [
    {
     "data": {
      "text/plain": [
       "143.9231707317073"
      ]
     },
     "execution_count": 29,
     "metadata": {},
     "output_type": "execute_result"
    }
   ],
   "source": [
    "f_e_men_not_fan = num_men * p_not_fan\n",
    "f_e_men_not_fan"
   ]
  },
  {
   "cell_type": "code",
   "execution_count": 30,
   "metadata": {},
   "outputs": [
    {
     "data": {
      "text/plain": [
       "(12.449350493035466,\n",
       " 0.00041813719910750865,\n",
       " 1,\n",
       " array([[261.92317073, 135.07682927],\n",
       "        [279.07682927, 143.92317073]]))"
      ]
     },
     "execution_count": 30,
     "metadata": {},
     "output_type": "execute_result"
    }
   ],
   "source": [
    "scipy.stats.chi2_contingency(ct_o, correction=False)"
   ]
  },
  {
   "cell_type": "code",
   "execution_count": null,
   "metadata": {},
   "outputs": [],
   "source": []
  }
 ],
 "metadata": {
  "kernelspec": {
   "display_name": "Python 3",
   "language": "python",
   "name": "python3"
  },
  "language_info": {
   "codemirror_mode": {
    "name": "ipython",
    "version": 3
   },
   "file_extension": ".py",
   "mimetype": "text/x-python",
   "name": "python",
   "nbconvert_exporter": "python",
   "pygments_lexer": "ipython3",
   "version": "3.10.0 (tags/v3.10.0:b494f59, Oct  4 2021, 19:00:18) [MSC v.1929 64 bit (AMD64)]"
  },
  "orig_nbformat": 4,
  "vscode": {
   "interpreter": {
    "hash": "f5406c724c6cbb2e983976c5b12cbb145d8bff8da4a253a8e700d677238d3545"
   }
  }
 },
 "nbformat": 4,
 "nbformat_minor": 2
}
