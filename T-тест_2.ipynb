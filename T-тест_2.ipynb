{
 "cells": [
  {
   "cell_type": "code",
   "execution_count": 175,
   "metadata": {},
   "outputs": [],
   "source": [
    "import pandas as pd\n",
    "import scipy.stats\n",
    "\n",
    "X = [23, 3, 11, 35, -3, -10]\n",
    "Y = [29, 1, 20, 3, 0, 0]"
   ]
  },
  {
   "cell_type": "code",
   "execution_count": 176,
   "metadata": {},
   "outputs": [],
   "source": [
    "X = pd.Series(X)\n",
    "Y = pd.Series(Y)"
   ]
  },
  {
   "cell_type": "code",
   "execution_count": 177,
   "metadata": {},
   "outputs": [
    {
     "data": {
      "text/plain": [
       "(282.56666666666666, 156.56666666666666)"
      ]
     },
     "execution_count": 177,
     "metadata": {},
     "output_type": "execute_result"
    }
   ],
   "source": [
    "var_X = X.var()\n",
    "var_Y = Y.var()\n",
    "var_X, var_Y"
   ]
  },
  {
   "cell_type": "code",
   "execution_count": 178,
   "metadata": {},
   "outputs": [
    {
     "data": {
      "text/plain": [
       "Ttest_indResult(statistic=0.11689001732394605, pvalue=0.9094487485927087)"
      ]
     },
     "execution_count": 178,
     "metadata": {},
     "output_type": "execute_result"
    }
   ],
   "source": [
    "scipy.stats.ttest_ind(X, Y, equal_var=False)"
   ]
  },
  {
   "cell_type": "code",
   "execution_count": 179,
   "metadata": {},
   "outputs": [],
   "source": [
    "X = [13, 0, 6, 9, -1, 0]\n",
    "Y = [4, 1, 5, 1, 20, 0]\n",
    "\n",
    "X = pd.Series(X)\n",
    "Y = pd.Series(Y)"
   ]
  },
  {
   "cell_type": "code",
   "execution_count": 180,
   "metadata": {},
   "outputs": [
    {
     "data": {
      "text/plain": [
       "(33.1, 56.56666666666666)"
      ]
     },
     "execution_count": 180,
     "metadata": {},
     "output_type": "execute_result"
    }
   ],
   "source": [
    "var_X = X.var()\n",
    "var_Y = Y.var()\n",
    "var_X, var_Y"
   ]
  },
  {
   "cell_type": "code",
   "execution_count": 181,
   "metadata": {},
   "outputs": [
    {
     "data": {
      "text/plain": [
       "Ttest_indResult(statistic=-0.1724522454236908, pvalue=0.866753894833007)"
      ]
     },
     "execution_count": 181,
     "metadata": {},
     "output_type": "execute_result"
    }
   ],
   "source": [
    "scipy.stats.ttest_ind(X, Y, equal_var=False)"
   ]
  },
  {
   "cell_type": "code",
   "execution_count": 182,
   "metadata": {},
   "outputs": [
    {
     "data": {
      "text/plain": [
       "Ttest_1sampResult(statistic=1.1661136003542578, pvalue=0.2961612285500188)"
      ]
     },
     "execution_count": 182,
     "metadata": {},
     "output_type": "execute_result"
    }
   ],
   "source": [
    "X = [3, 2, 98, 34, 11, 2]\n",
    "scipy.stats.ttest_1samp (a=X, popmean=7)"
   ]
  },
  {
   "cell_type": "code",
   "execution_count": 183,
   "metadata": {},
   "outputs": [
    {
     "data": {
      "text/plain": [
       "(-2.0859634472658364, 2.0859634472658364)"
      ]
     },
     "execution_count": 183,
     "metadata": {},
     "output_type": "execute_result"
    }
   ],
   "source": [
    "scipy.stats.t.interval(0.95, 20)"
   ]
  },
  {
   "cell_type": "code",
   "execution_count": 184,
   "metadata": {},
   "outputs": [
    {
     "data": {
      "text/html": [
       "<div>\n",
       "<style scoped>\n",
       "    .dataframe tbody tr th:only-of-type {\n",
       "        vertical-align: middle;\n",
       "    }\n",
       "\n",
       "    .dataframe tbody tr th {\n",
       "        vertical-align: top;\n",
       "    }\n",
       "\n",
       "    .dataframe thead th {\n",
       "        text-align: right;\n",
       "    }\n",
       "</style>\n",
       "<table border=\"1\" class=\"dataframe\">\n",
       "  <thead>\n",
       "    <tr style=\"text-align: right;\">\n",
       "      <th></th>\n",
       "      <th>Unnamed: 0</th>\n",
       "      <th>statefips</th>\n",
       "      <th>state</th>\n",
       "      <th>gisjoin</th>\n",
       "      <th>lat_tract</th>\n",
       "      <th>long_tract</th>\n",
       "      <th>population</th>\n",
       "      <th>adj_radiuspop_5</th>\n",
       "      <th>urbanindex</th>\n",
       "      <th>log_pop</th>\n",
       "    </tr>\n",
       "  </thead>\n",
       "  <tbody>\n",
       "    <tr>\n",
       "      <th>0</th>\n",
       "      <td>0</td>\n",
       "      <td>1</td>\n",
       "      <td>Alabama</td>\n",
       "      <td>G0100010020100</td>\n",
       "      <td>32.47718</td>\n",
       "      <td>-86.49007</td>\n",
       "      <td>1845</td>\n",
       "      <td>44076.0</td>\n",
       "      <td>10.69367</td>\n",
       "      <td>7.520235</td>\n",
       "    </tr>\n",
       "    <tr>\n",
       "      <th>1</th>\n",
       "      <td>1</td>\n",
       "      <td>1</td>\n",
       "      <td>Alabama</td>\n",
       "      <td>G0100010020200</td>\n",
       "      <td>32.47425</td>\n",
       "      <td>-86.47337</td>\n",
       "      <td>2172</td>\n",
       "      <td>43008.0</td>\n",
       "      <td>10.66914</td>\n",
       "      <td>7.683404</td>\n",
       "    </tr>\n",
       "    <tr>\n",
       "      <th>2</th>\n",
       "      <td>2</td>\n",
       "      <td>1</td>\n",
       "      <td>Alabama</td>\n",
       "      <td>G0100010020300</td>\n",
       "      <td>32.47543</td>\n",
       "      <td>-86.46019</td>\n",
       "      <td>3385</td>\n",
       "      <td>38987.0</td>\n",
       "      <td>10.57098</td>\n",
       "      <td>8.127109</td>\n",
       "    </tr>\n",
       "    <tr>\n",
       "      <th>3</th>\n",
       "      <td>3</td>\n",
       "      <td>1</td>\n",
       "      <td>Alabama</td>\n",
       "      <td>G0100010020400</td>\n",
       "      <td>32.47200</td>\n",
       "      <td>-86.44363</td>\n",
       "      <td>4267</td>\n",
       "      <td>43131.0</td>\n",
       "      <td>10.67200</td>\n",
       "      <td>8.358666</td>\n",
       "    </tr>\n",
       "    <tr>\n",
       "      <th>4</th>\n",
       "      <td>4</td>\n",
       "      <td>1</td>\n",
       "      <td>Alabama</td>\n",
       "      <td>G0100010020500</td>\n",
       "      <td>32.45883</td>\n",
       "      <td>-86.42266</td>\n",
       "      <td>9965</td>\n",
       "      <td>43131.0</td>\n",
       "      <td>10.67200</td>\n",
       "      <td>9.206834</td>\n",
       "    </tr>\n",
       "    <tr>\n",
       "      <th>...</th>\n",
       "      <td>...</td>\n",
       "      <td>...</td>\n",
       "      <td>...</td>\n",
       "      <td>...</td>\n",
       "      <td>...</td>\n",
       "      <td>...</td>\n",
       "      <td>...</td>\n",
       "      <td>...</td>\n",
       "      <td>...</td>\n",
       "      <td>...</td>\n",
       "    </tr>\n",
       "    <tr>\n",
       "      <th>73275</th>\n",
       "      <td>73275</td>\n",
       "      <td>72</td>\n",
       "      <td>Puerto Rico</td>\n",
       "      <td>G7201530750501</td>\n",
       "      <td>18.03124</td>\n",
       "      <td>-66.86725</td>\n",
       "      <td>6011</td>\n",
       "      <td>52155.0</td>\n",
       "      <td>10.86198</td>\n",
       "      <td>8.701346</td>\n",
       "    </tr>\n",
       "    <tr>\n",
       "      <th>73276</th>\n",
       "      <td>73276</td>\n",
       "      <td>72</td>\n",
       "      <td>Puerto Rico</td>\n",
       "      <td>G7201530750502</td>\n",
       "      <td>18.02477</td>\n",
       "      <td>-66.86044</td>\n",
       "      <td>2342</td>\n",
       "      <td>55257.0</td>\n",
       "      <td>10.91975</td>\n",
       "      <td>7.758761</td>\n",
       "    </tr>\n",
       "    <tr>\n",
       "      <th>73277</th>\n",
       "      <td>73277</td>\n",
       "      <td>72</td>\n",
       "      <td>Puerto Rico</td>\n",
       "      <td>G7201530750503</td>\n",
       "      <td>18.02527</td>\n",
       "      <td>-66.87763</td>\n",
       "      <td>2218</td>\n",
       "      <td>48423.0</td>\n",
       "      <td>10.78773</td>\n",
       "      <td>7.704361</td>\n",
       "    </tr>\n",
       "    <tr>\n",
       "      <th>73278</th>\n",
       "      <td>73278</td>\n",
       "      <td>72</td>\n",
       "      <td>Puerto Rico</td>\n",
       "      <td>G7201530750601</td>\n",
       "      <td>18.01738</td>\n",
       "      <td>-66.83936</td>\n",
       "      <td>4380</td>\n",
       "      <td>50600.0</td>\n",
       "      <td>10.83171</td>\n",
       "      <td>8.384804</td>\n",
       "    </tr>\n",
       "    <tr>\n",
       "      <th>73279</th>\n",
       "      <td>73279</td>\n",
       "      <td>72</td>\n",
       "      <td>Puerto Rico</td>\n",
       "      <td>G7201530750602</td>\n",
       "      <td>17.98674</td>\n",
       "      <td>-66.85192</td>\n",
       "      <td>3001</td>\n",
       "      <td>44921.0</td>\n",
       "      <td>10.71266</td>\n",
       "      <td>8.006701</td>\n",
       "    </tr>\n",
       "  </tbody>\n",
       "</table>\n",
       "<p>73280 rows × 10 columns</p>\n",
       "</div>"
      ],
      "text/plain": [
       "       Unnamed: 0  statefips        state         gisjoin  lat_tract  \\\n",
       "0               0          1      Alabama  G0100010020100   32.47718   \n",
       "1               1          1      Alabama  G0100010020200   32.47425   \n",
       "2               2          1      Alabama  G0100010020300   32.47543   \n",
       "3               3          1      Alabama  G0100010020400   32.47200   \n",
       "4               4          1      Alabama  G0100010020500   32.45883   \n",
       "...           ...        ...          ...             ...        ...   \n",
       "73275       73275         72  Puerto Rico  G7201530750501   18.03124   \n",
       "73276       73276         72  Puerto Rico  G7201530750502   18.02477   \n",
       "73277       73277         72  Puerto Rico  G7201530750503   18.02527   \n",
       "73278       73278         72  Puerto Rico  G7201530750601   18.01738   \n",
       "73279       73279         72  Puerto Rico  G7201530750602   17.98674   \n",
       "\n",
       "       long_tract  population  adj_radiuspop_5  urbanindex   log_pop  \n",
       "0       -86.49007        1845          44076.0    10.69367  7.520235  \n",
       "1       -86.47337        2172          43008.0    10.66914  7.683404  \n",
       "2       -86.46019        3385          38987.0    10.57098  8.127109  \n",
       "3       -86.44363        4267          43131.0    10.67200  8.358666  \n",
       "4       -86.42266        9965          43131.0    10.67200  9.206834  \n",
       "...           ...         ...              ...         ...       ...  \n",
       "73275   -66.86725        6011          52155.0    10.86198  8.701346  \n",
       "73276   -66.86044        2342          55257.0    10.91975  7.758761  \n",
       "73277   -66.87763        2218          48423.0    10.78773  7.704361  \n",
       "73278   -66.83936        4380          50600.0    10.83171  8.384804  \n",
       "73279   -66.85192        3001          44921.0    10.71266  8.006701  \n",
       "\n",
       "[73280 rows x 10 columns]"
      ]
     },
     "execution_count": 184,
     "metadata": {},
     "output_type": "execute_result"
    }
   ],
   "source": [
    "urb = pd.read_csv('UrbanizationCensusTract.csv')\n",
    "urb"
   ]
  },
  {
   "cell_type": "code",
   "execution_count": 185,
   "metadata": {},
   "outputs": [
    {
     "data": {
      "text/plain": [
       "state\n",
       "Alabama                 0.317655\n",
       "Alaska                  0.514531\n",
       "Arizona                 0.294740\n",
       "Arkansas                0.260268\n",
       "California              0.263989\n",
       "Colorado                0.258905\n",
       "Connecticut             0.167508\n",
       "Delaware                0.275316\n",
       "District of Columbia    0.211929\n",
       "Florida                 0.330890\n",
       "Georgia                 0.287560\n",
       "Hawaii                  0.677076\n",
       "Idaho                   0.440536\n",
       "Illinois                0.237066\n",
       "Indiana                 0.250655\n",
       "Iowa                    0.172946\n",
       "Kansas                  0.266572\n",
       "Kentucky                0.287806\n",
       "Louisiana               0.387592\n",
       "Maine                   0.227874\n",
       "Maryland                0.228657\n",
       "Massachusetts           0.264198\n",
       "Michigan                0.321032\n",
       "Minnesota               0.198183\n",
       "Mississippi             0.318911\n",
       "Missouri                0.269484\n",
       "Montana                 0.362417\n",
       "Nebraska                0.305193\n",
       "Nevada                  0.219867\n",
       "New Hampshire           0.164318\n",
       "New Jersey              0.233749\n",
       "New Mexico              0.245027\n",
       "New York                0.385041\n",
       "North Carolina          0.216047\n",
       "North Dakota            0.319718\n",
       "Ohio                    0.250454\n",
       "Oklahoma                0.336239\n",
       "Oregon                  0.205748\n",
       "Pennsylvania            0.283613\n",
       "Puerto Rico             0.354072\n",
       "Rhode Island            0.152426\n",
       "South Carolina          0.274145\n",
       "South Dakota            0.247386\n",
       "Tennessee               0.308067\n",
       "Texas                   0.341808\n",
       "Utah                    0.244966\n",
       "Vermont                 0.231386\n",
       "Virginia                0.266383\n",
       "Washington              0.184071\n",
       "West Virginia           0.206541\n",
       "Wisconsin               0.185339\n",
       "Wyoming                 0.185171\n",
       "Name: log_pop, dtype: float64"
      ]
     },
     "execution_count": 185,
     "metadata": {},
     "output_type": "execute_result"
    }
   ],
   "source": [
    "var = urb.groupby('state')['log_pop'].var()\n",
    "var"
   ]
  },
  {
   "cell_type": "code",
   "execution_count": 186,
   "metadata": {},
   "outputs": [
    {
     "data": {
      "text/plain": [
       "(0.24738635408141263, 0.1851712617855171, 219, 131)"
      ]
     },
     "execution_count": 186,
     "metadata": {},
     "output_type": "execute_result"
    }
   ],
   "source": [
    "var_1 = var['South Dakota']\n",
    "var_2 = var['Wyoming']\n",
    "South_Dakota = urb[urb['state'] == 'South Dakota']\n",
    "Wyoming = urb[urb['state'] == 'Wyoming']\n",
    "n_1 = South_Dakota.shape[0]\n",
    "n_2 = Wyoming.shape[0]\n",
    "var_1, var_2, n_1, n_2"
   ]
  },
  {
   "cell_type": "code",
   "execution_count": 187,
   "metadata": {},
   "outputs": [],
   "source": [
    "v_1 = var_1 / n_1\n",
    "v_2 = var_2 / n_2"
   ]
  },
  {
   "cell_type": "code",
   "execution_count": 188,
   "metadata": {},
   "outputs": [
    {
     "data": {
      "text/plain": [
       "304.74376993186036"
      ]
     },
     "execution_count": 188,
     "metadata": {},
     "output_type": "execute_result"
    }
   ],
   "source": [
    "dof_welch = (v_1 + v_2)**2 / (v_1**2/(n_1 - 1) + v_2**2/(n_2 - 1))\n",
    "dof_welch"
   ]
  },
  {
   "cell_type": "code",
   "execution_count": 189,
   "metadata": {},
   "outputs": [
    {
     "data": {
      "text/plain": [
       "348"
      ]
     },
     "execution_count": 189,
     "metadata": {},
     "output_type": "execute_result"
    }
   ],
   "source": [
    "dof = n_1 + n_2 - 2\n",
    "dof"
   ]
  },
  {
   "cell_type": "code",
   "execution_count": 190,
   "metadata": {},
   "outputs": [],
   "source": [
    "t_critical = scipy.stats.t.ppf(q=1-.01/2, df=348)"
   ]
  },
  {
   "cell_type": "code",
   "execution_count": 191,
   "metadata": {},
   "outputs": [
    {
     "name": "stderr",
     "output_type": "stream",
     "text": [
      "C:\\Users\\eldo\\AppData\\Local\\Temp\\ipykernel_13908\\3489319364.py:1: FutureWarning: The frame.append method is deprecated and will be removed from pandas in a future version. Use pandas.concat instead.\n",
      "  new_table = South_Dakota.append(Wyoming)\n"
     ]
    },
    {
     "data": {
      "text/html": [
       "<div>\n",
       "<style scoped>\n",
       "    .dataframe tbody tr th:only-of-type {\n",
       "        vertical-align: middle;\n",
       "    }\n",
       "\n",
       "    .dataframe tbody tr th {\n",
       "        vertical-align: top;\n",
       "    }\n",
       "\n",
       "    .dataframe thead th {\n",
       "        text-align: right;\n",
       "    }\n",
       "</style>\n",
       "<table border=\"1\" class=\"dataframe\">\n",
       "  <thead>\n",
       "    <tr style=\"text-align: right;\">\n",
       "      <th></th>\n",
       "      <th>Unnamed: 0</th>\n",
       "      <th>statefips</th>\n",
       "      <th>state</th>\n",
       "      <th>gisjoin</th>\n",
       "      <th>lat_tract</th>\n",
       "      <th>long_tract</th>\n",
       "      <th>population</th>\n",
       "      <th>adj_radiuspop_5</th>\n",
       "      <th>urbanindex</th>\n",
       "      <th>log_pop</th>\n",
       "    </tr>\n",
       "  </thead>\n",
       "  <tbody>\n",
       "    <tr>\n",
       "      <th>59364</th>\n",
       "      <td>59364</td>\n",
       "      <td>46</td>\n",
       "      <td>South Dakota</td>\n",
       "      <td>G4600030973600</td>\n",
       "      <td>43.71801</td>\n",
       "      <td>-98.56155</td>\n",
       "      <td>2739</td>\n",
       "      <td>184.9298</td>\n",
       "      <td>5.219976</td>\n",
       "      <td>7.915348</td>\n",
       "    </tr>\n",
       "    <tr>\n",
       "      <th>59365</th>\n",
       "      <td>59365</td>\n",
       "      <td>46</td>\n",
       "      <td>South Dakota</td>\n",
       "      <td>G4600050956600</td>\n",
       "      <td>44.40363</td>\n",
       "      <td>-98.04875</td>\n",
       "      <td>1812</td>\n",
       "      <td>994.3317</td>\n",
       "      <td>6.902071</td>\n",
       "      <td>7.502186</td>\n",
       "    </tr>\n",
       "    <tr>\n",
       "      <th>59366</th>\n",
       "      <td>59366</td>\n",
       "      <td>46</td>\n",
       "      <td>South Dakota</td>\n",
       "      <td>G4600050956700</td>\n",
       "      <td>44.43037</td>\n",
       "      <td>-98.48525</td>\n",
       "      <td>2007</td>\n",
       "      <td>495.1572</td>\n",
       "      <td>6.204875</td>\n",
       "      <td>7.604396</td>\n",
       "    </tr>\n",
       "    <tr>\n",
       "      <th>59367</th>\n",
       "      <td>59367</td>\n",
       "      <td>46</td>\n",
       "      <td>South Dakota</td>\n",
       "      <td>G4600050956800</td>\n",
       "      <td>44.39103</td>\n",
       "      <td>-98.24201</td>\n",
       "      <td>1838</td>\n",
       "      <td>11898.0000</td>\n",
       "      <td>9.384126</td>\n",
       "      <td>7.516433</td>\n",
       "    </tr>\n",
       "    <tr>\n",
       "      <th>59368</th>\n",
       "      <td>59368</td>\n",
       "      <td>46</td>\n",
       "      <td>South Dakota</td>\n",
       "      <td>G4600050956900</td>\n",
       "      <td>44.36152</td>\n",
       "      <td>-98.21582</td>\n",
       "      <td>3017</td>\n",
       "      <td>17345.0000</td>\n",
       "      <td>9.761060</td>\n",
       "      <td>8.012018</td>\n",
       "    </tr>\n",
       "    <tr>\n",
       "      <th>...</th>\n",
       "      <td>...</td>\n",
       "      <td>...</td>\n",
       "      <td>...</td>\n",
       "      <td>...</td>\n",
       "      <td>...</td>\n",
       "      <td>...</td>\n",
       "      <td>...</td>\n",
       "      <td>...</td>\n",
       "      <td>...</td>\n",
       "      <td>...</td>\n",
       "    </tr>\n",
       "    <tr>\n",
       "      <th>72388</th>\n",
       "      <td>72388</td>\n",
       "      <td>56</td>\n",
       "      <td>Wyoming</td>\n",
       "      <td>G5600430000200</td>\n",
       "      <td>43.90462</td>\n",
       "      <td>-107.68200</td>\n",
       "      <td>3202</td>\n",
       "      <td>307.8413</td>\n",
       "      <td>5.729585</td>\n",
       "      <td>8.071531</td>\n",
       "    </tr>\n",
       "    <tr>\n",
       "      <th>72389</th>\n",
       "      <td>72389</td>\n",
       "      <td>56</td>\n",
       "      <td>Wyoming</td>\n",
       "      <td>G5600430000301</td>\n",
       "      <td>44.01437</td>\n",
       "      <td>-107.95640</td>\n",
       "      <td>2446</td>\n",
       "      <td>5606.0000</td>\n",
       "      <td>8.631593</td>\n",
       "      <td>7.802209</td>\n",
       "    </tr>\n",
       "    <tr>\n",
       "      <th>72390</th>\n",
       "      <td>72390</td>\n",
       "      <td>56</td>\n",
       "      <td>Wyoming</td>\n",
       "      <td>G5600430000302</td>\n",
       "      <td>44.02728</td>\n",
       "      <td>-107.94970</td>\n",
       "      <td>2605</td>\n",
       "      <td>8052.0000</td>\n",
       "      <td>8.993676</td>\n",
       "      <td>7.865188</td>\n",
       "    </tr>\n",
       "    <tr>\n",
       "      <th>72391</th>\n",
       "      <td>72391</td>\n",
       "      <td>56</td>\n",
       "      <td>Wyoming</td>\n",
       "      <td>G5600450951100</td>\n",
       "      <td>43.84015</td>\n",
       "      <td>-104.57350</td>\n",
       "      <td>3329</td>\n",
       "      <td>294.6703</td>\n",
       "      <td>5.685857</td>\n",
       "      <td>8.110427</td>\n",
       "    </tr>\n",
       "    <tr>\n",
       "      <th>72392</th>\n",
       "      <td>72392</td>\n",
       "      <td>56</td>\n",
       "      <td>Wyoming</td>\n",
       "      <td>G5600450951300</td>\n",
       "      <td>43.85904</td>\n",
       "      <td>-104.25440</td>\n",
       "      <td>3788</td>\n",
       "      <td>294.6703</td>\n",
       "      <td>5.685857</td>\n",
       "      <td>8.239593</td>\n",
       "    </tr>\n",
       "  </tbody>\n",
       "</table>\n",
       "<p>350 rows × 10 columns</p>\n",
       "</div>"
      ],
      "text/plain": [
       "       Unnamed: 0  statefips         state         gisjoin  lat_tract  \\\n",
       "59364       59364         46  South Dakota  G4600030973600   43.71801   \n",
       "59365       59365         46  South Dakota  G4600050956600   44.40363   \n",
       "59366       59366         46  South Dakota  G4600050956700   44.43037   \n",
       "59367       59367         46  South Dakota  G4600050956800   44.39103   \n",
       "59368       59368         46  South Dakota  G4600050956900   44.36152   \n",
       "...           ...        ...           ...             ...        ...   \n",
       "72388       72388         56       Wyoming  G5600430000200   43.90462   \n",
       "72389       72389         56       Wyoming  G5600430000301   44.01437   \n",
       "72390       72390         56       Wyoming  G5600430000302   44.02728   \n",
       "72391       72391         56       Wyoming  G5600450951100   43.84015   \n",
       "72392       72392         56       Wyoming  G5600450951300   43.85904   \n",
       "\n",
       "       long_tract  population  adj_radiuspop_5  urbanindex   log_pop  \n",
       "59364   -98.56155        2739         184.9298    5.219976  7.915348  \n",
       "59365   -98.04875        1812         994.3317    6.902071  7.502186  \n",
       "59366   -98.48525        2007         495.1572    6.204875  7.604396  \n",
       "59367   -98.24201        1838       11898.0000    9.384126  7.516433  \n",
       "59368   -98.21582        3017       17345.0000    9.761060  8.012018  \n",
       "...           ...         ...              ...         ...       ...  \n",
       "72388  -107.68200        3202         307.8413    5.729585  8.071531  \n",
       "72389  -107.95640        2446        5606.0000    8.631593  7.802209  \n",
       "72390  -107.94970        2605        8052.0000    8.993676  7.865188  \n",
       "72391  -104.57350        3329         294.6703    5.685857  8.110427  \n",
       "72392  -104.25440        3788         294.6703    5.685857  8.239593  \n",
       "\n",
       "[350 rows x 10 columns]"
      ]
     },
     "execution_count": 191,
     "metadata": {},
     "output_type": "execute_result"
    }
   ],
   "source": [
    "new_table = South_Dakota.append(Wyoming)\n",
    "new_table"
   ]
  },
  {
   "cell_type": "code",
   "execution_count": 209,
   "metadata": {},
   "outputs": [],
   "source": [
    "import numpy as np"
   ]
  },
  {
   "cell_type": "code",
   "execution_count": 211,
   "metadata": {},
   "outputs": [
    {
     "data": {
      "text/plain": [
       "0.025687952767296168"
      ]
     },
     "execution_count": 211,
     "metadata": {},
     "output_type": "execute_result"
    }
   ],
   "source": [
    "scipy.stats.sem(new_table['log_pop'])"
   ]
  },
  {
   "cell_type": "code",
   "execution_count": 192,
   "metadata": {},
   "outputs": [],
   "source": [
    "std = new_table['log_pop'].std()"
   ]
  },
  {
   "cell_type": "code",
   "execution_count": 193,
   "metadata": {},
   "outputs": [],
   "source": [
    "number = new_table.shape[0]"
   ]
  },
  {
   "cell_type": "code",
   "execution_count": 210,
   "metadata": {},
   "outputs": [
    {
     "data": {
      "text/plain": [
       "0.025687952767296168"
      ]
     },
     "execution_count": 210,
     "metadata": {},
     "output_type": "execute_result"
    }
   ],
   "source": [
    "sem = std / np.sqrt(number)\n",
    "sem"
   ]
  },
  {
   "cell_type": "code",
   "execution_count": 195,
   "metadata": {},
   "outputs": [
    {
     "data": {
      "text/plain": [
       "0.17812507657674104"
      ]
     },
     "execution_count": 195,
     "metadata": {},
     "output_type": "execute_result"
    }
   ],
   "source": [
    "M1 = South_Dakota['log_pop'].mean()\n",
    "M2 = Wyoming['log_pop'].mean()\n",
    "M2 - M1"
   ]
  },
  {
   "cell_type": "code",
   "execution_count": 196,
   "metadata": {},
   "outputs": [
    {
     "data": {
      "text/plain": [
       "Ttest_indResult(statistic=-3.5321570336075356, pvalue=0.00047596931710874944)"
      ]
     },
     "execution_count": 196,
     "metadata": {},
     "output_type": "execute_result"
    }
   ],
   "source": [
    "scipy.stats.ttest_ind(South_Dakota['log_pop'], Wyoming['log_pop'], equal_var=False)"
   ]
  },
  {
   "cell_type": "code",
   "execution_count": 206,
   "metadata": {},
   "outputs": [
    {
     "data": {
      "text/plain": [
       "0.05042954627496126"
      ]
     },
     "execution_count": 206,
     "metadata": {},
     "output_type": "execute_result"
    }
   ],
   "source": [
    "s_m1_m2 = np.sqrt(v_1 + v_2)\n",
    "s_m1_m2"
   ]
  },
  {
   "cell_type": "code",
   "execution_count": 212,
   "metadata": {},
   "outputs": [
    {
     "data": {
      "text/plain": [
       "(8.135170999590162, 8.313296076166903)"
      ]
     },
     "execution_count": 212,
     "metadata": {},
     "output_type": "execute_result"
    }
   ],
   "source": [
    "mean_1 = South_Dakota['log_pop'].mean()\n",
    "mean_2 = Wyoming['log_pop'].mean()\n",
    "mean_1, mean_2"
   ]
  },
  {
   "cell_type": "code",
   "execution_count": 214,
   "metadata": {},
   "outputs": [
    {
     "data": {
      "text/plain": [
       "(0.04751101086329662, 0.30873914229018545)"
      ]
     },
     "execution_count": 214,
     "metadata": {},
     "output_type": "execute_result"
    }
   ],
   "source": [
    "CI_bottom = (mean_2 - mean_1) - (t_critical*s_m1_m2)\n",
    "CI_top = (mean_2 - mean_1) + (t_critical*s_m1_m2)\n",
    "CI_bottom, CI_top"
   ]
  }
 ],
 "metadata": {
  "kernelspec": {
   "display_name": "Python 3",
   "language": "python",
   "name": "python3"
  },
  "language_info": {
   "codemirror_mode": {
    "name": "ipython",
    "version": 3
   },
   "file_extension": ".py",
   "mimetype": "text/x-python",
   "name": "python",
   "nbconvert_exporter": "python",
   "pygments_lexer": "ipython3",
   "version": "3.10.0"
  },
  "orig_nbformat": 4,
  "vscode": {
   "interpreter": {
    "hash": "f5406c724c6cbb2e983976c5b12cbb145d8bff8da4a253a8e700d677238d3545"
   }
  }
 },
 "nbformat": 4,
 "nbformat_minor": 2
}
