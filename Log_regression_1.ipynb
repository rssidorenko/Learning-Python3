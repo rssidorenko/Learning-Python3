{
 "cells": [
  {
   "cell_type": "code",
   "execution_count": 6,
   "metadata": {},
   "outputs": [
    {
     "data": {
      "text/html": [
       "<div>\n",
       "<style scoped>\n",
       "    .dataframe tbody tr th:only-of-type {\n",
       "        vertical-align: middle;\n",
       "    }\n",
       "\n",
       "    .dataframe tbody tr th {\n",
       "        vertical-align: top;\n",
       "    }\n",
       "\n",
       "    .dataframe thead th {\n",
       "        text-align: right;\n",
       "    }\n",
       "</style>\n",
       "<table border=\"1\" class=\"dataframe\">\n",
       "  <thead>\n",
       "    <tr style=\"text-align: right;\">\n",
       "      <th></th>\n",
       "      <th>age</th>\n",
       "      <th>sex</th>\n",
       "      <th>cp</th>\n",
       "      <th>trestbps</th>\n",
       "      <th>chol</th>\n",
       "      <th>fbs</th>\n",
       "      <th>restecg</th>\n",
       "      <th>thalach</th>\n",
       "      <th>exang</th>\n",
       "      <th>target</th>\n",
       "    </tr>\n",
       "  </thead>\n",
       "  <tbody>\n",
       "    <tr>\n",
       "      <th>0</th>\n",
       "      <td>63</td>\n",
       "      <td>1</td>\n",
       "      <td>3</td>\n",
       "      <td>145</td>\n",
       "      <td>233</td>\n",
       "      <td>1</td>\n",
       "      <td>0</td>\n",
       "      <td>150</td>\n",
       "      <td>0</td>\n",
       "      <td>1</td>\n",
       "    </tr>\n",
       "    <tr>\n",
       "      <th>1</th>\n",
       "      <td>37</td>\n",
       "      <td>1</td>\n",
       "      <td>2</td>\n",
       "      <td>130</td>\n",
       "      <td>250</td>\n",
       "      <td>0</td>\n",
       "      <td>1</td>\n",
       "      <td>187</td>\n",
       "      <td>0</td>\n",
       "      <td>1</td>\n",
       "    </tr>\n",
       "    <tr>\n",
       "      <th>2</th>\n",
       "      <td>41</td>\n",
       "      <td>0</td>\n",
       "      <td>1</td>\n",
       "      <td>130</td>\n",
       "      <td>204</td>\n",
       "      <td>0</td>\n",
       "      <td>0</td>\n",
       "      <td>172</td>\n",
       "      <td>0</td>\n",
       "      <td>1</td>\n",
       "    </tr>\n",
       "    <tr>\n",
       "      <th>3</th>\n",
       "      <td>56</td>\n",
       "      <td>1</td>\n",
       "      <td>1</td>\n",
       "      <td>120</td>\n",
       "      <td>236</td>\n",
       "      <td>0</td>\n",
       "      <td>1</td>\n",
       "      <td>178</td>\n",
       "      <td>0</td>\n",
       "      <td>1</td>\n",
       "    </tr>\n",
       "    <tr>\n",
       "      <th>4</th>\n",
       "      <td>57</td>\n",
       "      <td>0</td>\n",
       "      <td>0</td>\n",
       "      <td>120</td>\n",
       "      <td>354</td>\n",
       "      <td>0</td>\n",
       "      <td>1</td>\n",
       "      <td>163</td>\n",
       "      <td>1</td>\n",
       "      <td>1</td>\n",
       "    </tr>\n",
       "  </tbody>\n",
       "</table>\n",
       "</div>"
      ],
      "text/plain": [
       "   age  sex  cp  trestbps  chol  fbs  restecg  thalach  exang  target\n",
       "0   63    1   3       145   233    1        0      150      0       1\n",
       "1   37    1   2       130   250    0        1      187      0       1\n",
       "2   41    0   1       130   204    0        0      172      0       1\n",
       "3   56    1   1       120   236    0        1      178      0       1\n",
       "4   57    0   0       120   354    0        1      163      1       1"
      ]
     },
     "execution_count": 6,
     "metadata": {},
     "output_type": "execute_result"
    }
   ],
   "source": [
    "import numpy as np\n",
    "import pandas as pd\n",
    "import statsmodels.api as sm\n",
    "\n",
    "heart = pd.read_csv('heart.csv')\n",
    "heart.head()"
   ]
  },
  {
   "cell_type": "code",
   "execution_count": 29,
   "metadata": {},
   "outputs": [
    {
     "name": "stdout",
     "output_type": "stream",
     "text": [
      "<class 'pandas.core.frame.DataFrame'>\n",
      "RangeIndex: 303 entries, 0 to 302\n",
      "Data columns (total 10 columns):\n",
      " #   Column    Non-Null Count  Dtype\n",
      "---  ------    --------------  -----\n",
      " 0   age       303 non-null    int64\n",
      " 1   sex       303 non-null    int64\n",
      " 2   cp        303 non-null    int64\n",
      " 3   trestbps  303 non-null    int64\n",
      " 4   chol      303 non-null    int64\n",
      " 5   fbs       303 non-null    int64\n",
      " 6   restecg   303 non-null    int64\n",
      " 7   thalach   303 non-null    int64\n",
      " 8   exang     303 non-null    int64\n",
      " 9   target    303 non-null    int64\n",
      "dtypes: int64(10)\n",
      "memory usage: 23.8 KB\n"
     ]
    }
   ],
   "source": [
    "heart.info()"
   ]
  },
  {
   "cell_type": "code",
   "execution_count": 2,
   "metadata": {},
   "outputs": [],
   "source": [
    "cols_num = ['age', 'trestbps', 'chol', 'thalach']"
   ]
  },
  {
   "cell_type": "code",
   "execution_count": 8,
   "metadata": {},
   "outputs": [
    {
     "name": "stdout",
     "output_type": "stream",
     "text": [
      "Optimization terminated successfully.\n",
      "         Current function value: 0.648180\n",
      "         Iterations 5\n",
      "                           Logit Regression Results                           \n",
      "==============================================================================\n",
      "Dep. Variable:                 target   No. Observations:                  303\n",
      "Model:                          Logit   Df Residuals:                      301\n",
      "Method:                           MLE   Df Model:                            1\n",
      "Date:                Fri, 13 Jan 2023   Pseudo R-squ.:                 0.05948\n",
      "Time:                        19:28:30   Log-Likelihood:                -196.40\n",
      "converged:                       True   LL-Null:                       -208.82\n",
      "Covariance Type:            nonrobust   LLR p-value:                 6.226e-07\n",
      "==============================================================================\n",
      "                 coef    std err          z      P>|z|      [0.025      0.975]\n",
      "------------------------------------------------------------------------------\n",
      "const          1.0986      0.236      4.661      0.000       0.637       1.561\n",
      "sex           -1.3022      0.274     -4.752      0.000      -1.839      -0.765\n",
      "==============================================================================\n"
     ]
    }
   ],
   "source": [
    "X = sm.add_constant(heart['sex'])\n",
    "y = heart['target']\n",
    "\n",
    "logit = sm.Logit(y, X)\n",
    "results = logit.fit()\n",
    "print(results.summary())"
   ]
  },
  {
   "cell_type": "code",
   "execution_count": 9,
   "metadata": {},
   "outputs": [
    {
     "data": {
      "text/plain": [
       "2.9999631342221873"
      ]
     },
     "execution_count": 9,
     "metadata": {},
     "output_type": "execute_result"
    }
   ],
   "source": [
    "np.exp(1.0986)"
   ]
  },
  {
   "cell_type": "code",
   "execution_count": 10,
   "metadata": {},
   "outputs": [
    {
     "data": {
      "text/plain": [
       "0.27193288213288974"
      ]
     },
     "execution_count": 10,
     "metadata": {},
     "output_type": "execute_result"
    }
   ],
   "source": [
    "np.exp(-1.3022)"
   ]
  },
  {
   "cell_type": "code",
   "execution_count": 11,
   "metadata": {},
   "outputs": [
    {
     "data": {
      "text/html": [
       "<div>\n",
       "<style scoped>\n",
       "    .dataframe tbody tr th:only-of-type {\n",
       "        vertical-align: middle;\n",
       "    }\n",
       "\n",
       "    .dataframe tbody tr th {\n",
       "        vertical-align: top;\n",
       "    }\n",
       "\n",
       "    .dataframe thead th {\n",
       "        text-align: right;\n",
       "    }\n",
       "</style>\n",
       "<table border=\"1\" class=\"dataframe\">\n",
       "  <thead>\n",
       "    <tr style=\"text-align: right;\">\n",
       "      <th>sex</th>\n",
       "      <th>0</th>\n",
       "      <th>1</th>\n",
       "    </tr>\n",
       "    <tr>\n",
       "      <th>target</th>\n",
       "      <th></th>\n",
       "      <th></th>\n",
       "    </tr>\n",
       "  </thead>\n",
       "  <tbody>\n",
       "    <tr>\n",
       "      <th>0</th>\n",
       "      <td>24</td>\n",
       "      <td>114</td>\n",
       "    </tr>\n",
       "    <tr>\n",
       "      <th>1</th>\n",
       "      <td>72</td>\n",
       "      <td>93</td>\n",
       "    </tr>\n",
       "  </tbody>\n",
       "</table>\n",
       "</div>"
      ],
      "text/plain": [
       "sex      0    1\n",
       "target         \n",
       "0       24  114\n",
       "1       72   93"
      ]
     },
     "execution_count": 11,
     "metadata": {},
     "output_type": "execute_result"
    }
   ],
   "source": [
    "heart.groupby('target')['sex'].value_counts().unstack()"
   ]
  },
  {
   "cell_type": "code",
   "execution_count": 13,
   "metadata": {},
   "outputs": [
    {
     "data": {
      "text/plain": [
       "3.0"
      ]
     },
     "execution_count": 13,
     "metadata": {},
     "output_type": "execute_result"
    }
   ],
   "source": [
    "p_1_fem = 72 / (72 + 24)\n",
    "p_0_fem = 1 - p_1_fem\n",
    "odds_1_fem = p_1_fem / p_0_fem\n",
    "print(odds_1_fem)"
   ]
  },
  {
   "cell_type": "code",
   "execution_count": 14,
   "metadata": {},
   "outputs": [
    {
     "name": "stdout",
     "output_type": "stream",
     "text": [
      "1.0986122886681098\n"
     ]
    }
   ],
   "source": [
    "print(np.log(odds_1_fem))"
   ]
  },
  {
   "cell_type": "code",
   "execution_count": 19,
   "metadata": {},
   "outputs": [
    {
     "name": "stdout",
     "output_type": "stream",
     "text": [
      "Optimization terminated successfully.\n",
      "         Current function value: 0.480864\n",
      "         Iterations 6\n",
      "                           Logit Regression Results                           \n",
      "==============================================================================\n",
      "Dep. Variable:                 target   No. Observations:                  303\n",
      "Model:                          Logit   Df Residuals:                      294\n",
      "Method:                           MLE   Df Model:                            8\n",
      "Date:                Fri, 13 Jan 2023   Pseudo R-squ.:                  0.3023\n",
      "Time:                        19:39:02   Log-Likelihood:                -145.70\n",
      "converged:                       True   LL-Null:                       -208.82\n",
      "Covariance Type:            nonrobust   LLR p-value:                 1.705e-23\n",
      "==============================================================================\n",
      "                 coef    std err          z      P>|z|      [0.025      0.975]\n",
      "------------------------------------------------------------------------------\n",
      "const          1.2171      2.040      0.597      0.551      -2.782       5.216\n",
      "age           -0.0231      0.019     -1.207      0.227      -0.061       0.014\n",
      "sex           -1.7588      0.356     -4.944      0.000      -2.456      -1.061\n",
      "trestbps      -0.0176      0.009     -1.983      0.047      -0.035      -0.000\n",
      "chol          -0.0058      0.003     -1.961      0.050      -0.012   -2.51e-06\n",
      "fbs            0.2182      0.397      0.549      0.583      -0.561       0.997\n",
      "restecg        0.3275      0.278      1.179      0.238      -0.217       0.872\n",
      "thalach        0.0367      0.008      4.486      0.000       0.021       0.053\n",
      "exang         -1.5403      0.327     -4.710      0.000      -2.181      -0.899\n",
      "==============================================================================\n"
     ]
    }
   ],
   "source": [
    "X = sm.add_constant(heart.drop(['cp', 'target'], axis=1))\n",
    "y = heart['target']\n",
    "\n",
    "logit = sm.Logit(y, X)\n",
    "results = logit.fit()\n",
    "print(results.summary())"
   ]
  },
  {
   "cell_type": "code",
   "execution_count": 20,
   "metadata": {},
   "outputs": [
    {
     "data": {
      "text/plain": [
       "0.17225144158150393"
      ]
     },
     "execution_count": 20,
     "metadata": {},
     "output_type": "execute_result"
    }
   ],
   "source": [
    "np.exp(-1.7588)"
   ]
  },
  {
   "cell_type": "code",
   "execution_count": 21,
   "metadata": {},
   "outputs": [
    {
     "data": {
      "text/plain": [
       "1.0373817596234223"
      ]
     },
     "execution_count": 21,
     "metadata": {},
     "output_type": "execute_result"
    }
   ],
   "source": [
    "np.exp(0.0367)"
   ]
  },
  {
   "cell_type": "code",
   "execution_count": 22,
   "metadata": {},
   "outputs": [
    {
     "data": {
      "text/plain": [
       "0.2143167967427348"
      ]
     },
     "execution_count": 22,
     "metadata": {},
     "output_type": "execute_result"
    }
   ],
   "source": [
    "np.exp(-1.5403)"
   ]
  },
  {
   "cell_type": "code",
   "execution_count": 23,
   "metadata": {},
   "outputs": [
    {
     "name": "stdout",
     "output_type": "stream",
     "text": [
      "Optimization terminated successfully.\n",
      "         Current function value: 0.580461\n",
      "         Iterations 6\n",
      "                           Logit Regression Results                           \n",
      "==============================================================================\n",
      "Dep. Variable:                 target   No. Observations:                  303\n",
      "Model:                          Logit   Df Residuals:                      298\n",
      "Method:                           MLE   Df Model:                            4\n",
      "Date:                Fri, 13 Jan 2023   Pseudo R-squ.:                  0.1577\n",
      "Time:                        19:42:31   Log-Likelihood:                -175.88\n",
      "converged:                       True   LL-Null:                       -208.82\n",
      "Covariance Type:            nonrobust   LLR p-value:                 1.680e-13\n",
      "==============================================================================\n",
      "                 coef    std err          z      P>|z|      [0.025      0.975]\n",
      "------------------------------------------------------------------------------\n",
      "const         -3.2241      1.662     -1.940      0.052      -6.481       0.032\n",
      "age           -0.0054      0.016     -0.328      0.743      -0.038       0.027\n",
      "trestbps      -0.0157      0.008     -2.004      0.045      -0.031      -0.000\n",
      "chol          -0.0031      0.002     -1.231      0.218      -0.008       0.002\n",
      "thalach        0.0436      0.007      6.194      0.000       0.030       0.057\n",
      "==============================================================================\n"
     ]
    }
   ],
   "source": [
    "X = sm.add_constant(heart[cols_num])\n",
    "y = heart['target']\n",
    "\n",
    "logit = sm.Logit(y, X)\n",
    "results = logit.fit()\n",
    "print(results.summary())"
   ]
  },
  {
   "cell_type": "code",
   "execution_count": 25,
   "metadata": {},
   "outputs": [
    {
     "data": {
      "text/html": [
       "<div>\n",
       "<style scoped>\n",
       "    .dataframe tbody tr th:only-of-type {\n",
       "        vertical-align: middle;\n",
       "    }\n",
       "\n",
       "    .dataframe tbody tr th {\n",
       "        vertical-align: top;\n",
       "    }\n",
       "\n",
       "    .dataframe thead th {\n",
       "        text-align: right;\n",
       "    }\n",
       "</style>\n",
       "<table border=\"1\" class=\"dataframe\">\n",
       "  <thead>\n",
       "    <tr style=\"text-align: right;\">\n",
       "      <th></th>\n",
       "      <th>age</th>\n",
       "      <th>trestbps</th>\n",
       "      <th>chol</th>\n",
       "      <th>thalach</th>\n",
       "    </tr>\n",
       "  </thead>\n",
       "  <tbody>\n",
       "    <tr>\n",
       "      <th>0</th>\n",
       "      <td>8.633663</td>\n",
       "      <td>13.376238</td>\n",
       "      <td>-13.264026</td>\n",
       "      <td>0.353135</td>\n",
       "    </tr>\n",
       "    <tr>\n",
       "      <th>1</th>\n",
       "      <td>-17.366337</td>\n",
       "      <td>-1.623762</td>\n",
       "      <td>3.735974</td>\n",
       "      <td>37.353135</td>\n",
       "    </tr>\n",
       "    <tr>\n",
       "      <th>2</th>\n",
       "      <td>-13.366337</td>\n",
       "      <td>-1.623762</td>\n",
       "      <td>-42.264026</td>\n",
       "      <td>22.353135</td>\n",
       "    </tr>\n",
       "    <tr>\n",
       "      <th>3</th>\n",
       "      <td>1.633663</td>\n",
       "      <td>-11.623762</td>\n",
       "      <td>-10.264026</td>\n",
       "      <td>28.353135</td>\n",
       "    </tr>\n",
       "    <tr>\n",
       "      <th>4</th>\n",
       "      <td>2.633663</td>\n",
       "      <td>-11.623762</td>\n",
       "      <td>107.735974</td>\n",
       "      <td>13.353135</td>\n",
       "    </tr>\n",
       "    <tr>\n",
       "      <th>...</th>\n",
       "      <td>...</td>\n",
       "      <td>...</td>\n",
       "      <td>...</td>\n",
       "      <td>...</td>\n",
       "    </tr>\n",
       "    <tr>\n",
       "      <th>298</th>\n",
       "      <td>2.633663</td>\n",
       "      <td>8.376238</td>\n",
       "      <td>-5.264026</td>\n",
       "      <td>-26.646865</td>\n",
       "    </tr>\n",
       "    <tr>\n",
       "      <th>299</th>\n",
       "      <td>-9.366337</td>\n",
       "      <td>-21.623762</td>\n",
       "      <td>17.735974</td>\n",
       "      <td>-17.646865</td>\n",
       "    </tr>\n",
       "    <tr>\n",
       "      <th>300</th>\n",
       "      <td>13.633663</td>\n",
       "      <td>12.376238</td>\n",
       "      <td>-53.264026</td>\n",
       "      <td>-8.646865</td>\n",
       "    </tr>\n",
       "    <tr>\n",
       "      <th>301</th>\n",
       "      <td>2.633663</td>\n",
       "      <td>-1.623762</td>\n",
       "      <td>-115.264026</td>\n",
       "      <td>-34.646865</td>\n",
       "    </tr>\n",
       "    <tr>\n",
       "      <th>302</th>\n",
       "      <td>2.633663</td>\n",
       "      <td>-1.623762</td>\n",
       "      <td>-10.264026</td>\n",
       "      <td>24.353135</td>\n",
       "    </tr>\n",
       "  </tbody>\n",
       "</table>\n",
       "<p>303 rows × 4 columns</p>\n",
       "</div>"
      ],
      "text/plain": [
       "           age   trestbps        chol    thalach\n",
       "0     8.633663  13.376238  -13.264026   0.353135\n",
       "1   -17.366337  -1.623762    3.735974  37.353135\n",
       "2   -13.366337  -1.623762  -42.264026  22.353135\n",
       "3     1.633663 -11.623762  -10.264026  28.353135\n",
       "4     2.633663 -11.623762  107.735974  13.353135\n",
       "..         ...        ...         ...        ...\n",
       "298   2.633663   8.376238   -5.264026 -26.646865\n",
       "299  -9.366337 -21.623762   17.735974 -17.646865\n",
       "300  13.633663  12.376238  -53.264026  -8.646865\n",
       "301   2.633663  -1.623762 -115.264026 -34.646865\n",
       "302   2.633663  -1.623762  -10.264026  24.353135\n",
       "\n",
       "[303 rows x 4 columns]"
      ]
     },
     "execution_count": 25,
     "metadata": {},
     "output_type": "execute_result"
    }
   ],
   "source": [
    "heart[cols_num] - heart[cols_num].mean()"
   ]
  },
  {
   "cell_type": "code",
   "execution_count": 27,
   "metadata": {},
   "outputs": [
    {
     "name": "stdout",
     "output_type": "stream",
     "text": [
      "Optimization terminated successfully.\n",
      "         Current function value: 0.580461\n",
      "         Iterations 5\n",
      "                           Logit Regression Results                           \n",
      "==============================================================================\n",
      "Dep. Variable:                 target   No. Observations:                  303\n",
      "Model:                          Logit   Df Residuals:                      298\n",
      "Method:                           MLE   Df Model:                            4\n",
      "Date:                Fri, 13 Jan 2023   Pseudo R-squ.:                  0.1577\n",
      "Time:                        19:46:48   Log-Likelihood:                -175.88\n",
      "converged:                       True   LL-Null:                       -208.82\n",
      "Covariance Type:            nonrobust   LLR p-value:                 1.680e-13\n",
      "==============================================================================\n",
      "                 coef    std err          z      P>|z|      [0.025      0.975]\n",
      "------------------------------------------------------------------------------\n",
      "const          0.1947      0.129      1.505      0.132      -0.059       0.448\n",
      "age           -0.0489      0.149     -0.328      0.743      -0.342       0.244\n",
      "trestbps      -0.2747      0.137     -2.004      0.045      -0.543      -0.006\n",
      "chol          -0.1587      0.129     -1.231      0.218      -0.411       0.094\n",
      "thalach        0.9992      0.161      6.194      0.000       0.683       1.315\n",
      "==============================================================================\n"
     ]
    }
   ],
   "source": [
    "X = sm.add_constant((heart[cols_num] - heart[cols_num].mean()) / heart[cols_num].std())\n",
    "y = heart['target']\n",
    "\n",
    "logit = sm.Logit(y, X)\n",
    "results = logit.fit()\n",
    "print(results.summary())"
   ]
  },
  {
   "cell_type": "code",
   "execution_count": null,
   "metadata": {},
   "outputs": [],
   "source": []
  }
 ],
 "metadata": {
  "kernelspec": {
   "display_name": "Python 3",
   "language": "python",
   "name": "python3"
  },
  "language_info": {
   "codemirror_mode": {
    "name": "ipython",
    "version": 3
   },
   "file_extension": ".py",
   "mimetype": "text/x-python",
   "name": "python",
   "nbconvert_exporter": "python",
   "pygments_lexer": "ipython3",
   "version": "3.10.0"
  },
  "orig_nbformat": 4,
  "vscode": {
   "interpreter": {
    "hash": "f5406c724c6cbb2e983976c5b12cbb145d8bff8da4a253a8e700d677238d3545"
   }
  }
 },
 "nbformat": 4,
 "nbformat_minor": 2
}
